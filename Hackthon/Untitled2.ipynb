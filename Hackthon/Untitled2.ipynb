{
 "cells": [
  {
   "cell_type": "code",
   "execution_count": 12,
   "metadata": {},
   "outputs": [],
   "source": [
    "dict_= {'P_id':[],'Name':[],'Last':[],'Age':[],'Gender':[],'Disease_A':[],'Disease_B':[],'Disease_C':[],'Total':[],'Vaccinated':[]}\n",
    "df=pd.DataFrame()"
   ]
  },
  {
   "cell_type": "code",
   "execution_count": 13,
   "metadata": {},
   "outputs": [],
   "source": [
    "#Function for appending values in the dictionary!!\n",
    "def set_key(dictionary, key, value):\n",
    "    if key not in dictionary:\n",
    "         dictionary[key] = value\n",
    "    elif type(dictionary[key]) == list:\n",
    "        dictionary[key].append(value)\n",
    "    else:\n",
    "        dictionary[key] = [dictionary[key], value]\n",
    "\n",
    "#function for adding data into dataframe \n",
    "def add_data1(data=df,dict_=dict_):\n",
    "   # dict_ = {'P_id':[],'Age':[],'Disease_A':[],'Disease_B':[],'Disease_C':[],'Gender':[],'Last':[],'Name':[],'Vaccinated':[]}\n",
    "    P_id = input(\"Enter Patient ID : \")\n",
    "    Name = input(\"Enter Patient Name : \")\n",
    "    Last = input(\"Enter Patient Last Name : \")\n",
    "    Age = int(input(\"Enter Patient Age : \"))\n",
    "    Gender = input(\"Enter Patient Gender : \")\n",
    "    Disease_A = int(input(\"Enter 1 if 'Yes',0 otherwise : \"))\n",
    "    Disease_B = int(input(\"Enter 1 if 'Yes',0 otherwise : \"))\n",
    "    Disease_C = int(input(\"Enter 1 if 'Yes',0 otherwise : \"))\n",
    "    Vaccinated = int(input(\"Enter 1 if 'Yes',0 otherwise :\"))\n",
    "    Total = 0\n",
    "    values = [P_id,Name,Last,Age,Gender,Disease_A,Disease_B,Disease_C,Total,Vaccinated]\n",
    "    for i,j in zip(dict_.keys(),values):\n",
    "        set_key(dict_,i,j)\n",
    "    d = pd.DataFrame(dict_)\n",
    "    \n",
    "    return d"
   ]
  },
  {
   "cell_type": "code",
   "execution_count": null,
   "metadata": {},
   "outputs": [],
   "source": []
  },
  {
   "cell_type": "code",
   "execution_count": 14,
   "metadata": {},
   "outputs": [
    {
     "name": "stdout",
     "output_type": "stream",
     "text": [
      "enter number of patients2\n",
      "Enter Patient ID : P010\n",
      "Enter Patient Name : as\n",
      "Enter Patient Last Name : sa\n",
      "Enter Patient Age : 33\n",
      "Enter Patient Gender : M\n",
      "Enter 1 if 'Yes',0 otherwise : 1\n",
      "Enter 1 if 'Yes',0 otherwise : 1\n",
      "Enter 1 if 'Yes',0 otherwise : 0\n",
      "Enter 1 if 'Yes',0 otherwise :0\n",
      "Enter Patient ID : P999\n",
      "Enter Patient Name : sdkfh\n",
      "Enter Patient Last Name : asd\n",
      "Enter Patient Age : 44\n",
      "Enter Patient Gender : d\n",
      "Enter 1 if 'Yes',0 otherwise : 1\n",
      "Enter 1 if 'Yes',0 otherwise : 1\n",
      "Enter 1 if 'Yes',0 otherwise : 1\n",
      "Enter 1 if 'Yes',0 otherwise :1\n"
     ]
    }
   ],
   "source": [
    "import pandas as pd\n",
    "from openpyxl import load_workbook\n",
    "# new dataframe with same columns\n",
    "writer = pd.ExcelWriter('/Users/Shubh/Desktop/Hackthon/Book 3.xlsx', engine='openpyxl')\n",
    "# try to open an existing workbook\n",
    "writer.book = load_workbook('/Users/Shubh/Desktop/Hackthon/Book 3.xlsx')\n",
    "# copy existing sheets\n",
    "writer.sheets = dict((ws.title, ws) for ws in writer.book.worksheets)\n",
    "# read existing file\n",
    "reader = pd.read_excel(r'/Users/Shubh/Desktop/Hackthon/Book 3.xlsx')\n",
    "# write out the new sheet\n",
    "num=int(input(\"enter number of patients\"))\n",
    "for i in range(num):\n",
    "    add_data1().to_excel(writer,index=False,header=False,startrow=len(reader)+1)\n",
    "    writer.close()"
   ]
  },
  {
   "cell_type": "code",
   "execution_count": null,
   "metadata": {},
   "outputs": [],
   "source": []
  }
 ],
 "metadata": {
  "kernelspec": {
   "display_name": "Python 3",
   "language": "python",
   "name": "python3"
  },
  "language_info": {
   "codemirror_mode": {
    "name": "ipython",
    "version": 3
   },
   "file_extension": ".py",
   "mimetype": "text/x-python",
   "name": "python",
   "nbconvert_exporter": "python",
   "pygments_lexer": "ipython3",
   "version": "3.8.5"
  }
 },
 "nbformat": 4,
 "nbformat_minor": 4
}
